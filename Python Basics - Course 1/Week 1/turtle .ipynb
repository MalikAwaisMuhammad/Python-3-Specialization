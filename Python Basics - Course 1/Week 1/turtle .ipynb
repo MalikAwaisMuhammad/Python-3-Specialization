{
 "cells": [
  {
   "cell_type": "code",
   "execution_count": 1,
   "metadata": {},
   "outputs": [],
   "source": [
    "import turtle             # allows us to use the turtles library\n",
    "wn = turtle.Screen()      # creates a graphics window\n",
    "alex = turtle.Turtle()    # create a turtle named alex\n",
    "alex.forward(150)         # tell alex to move forward by 150 units\n",
    "alex.left(90)             # turn by 90 degrees\n",
    "alex.forward(75)          # complete the second side of a rectangle"
   ]
  },
  {
   "cell_type": "code",
   "execution_count": 2,
   "metadata": {},
   "outputs": [],
   "source": [
    "import turtle             # allows us to use the turtles library\n",
    "wn = turtle.Screen()      # creates a graphics window\n",
    "Tex = turtle.Turtle()    # create a turtle named alex"
   ]
  },
  {
   "cell_type": "code",
   "execution_count": 3,
   "metadata": {},
   "outputs": [],
   "source": [
    "Tex.forward(20)"
   ]
  },
  {
   "cell_type": "code",
   "execution_count": 4,
   "metadata": {},
   "outputs": [
    {
     "ename": "NameError",
     "evalue": "name 'forward' is not defined",
     "output_type": "error",
     "traceback": [
      "\u001b[1;31m---------------------------------------------------------------------------\u001b[0m",
      "\u001b[1;31mNameError\u001b[0m                                 Traceback (most recent call last)",
      "\u001b[1;32m<ipython-input-4-07e20b23eafa>\u001b[0m in \u001b[0;36m<module>\u001b[1;34m\u001b[0m\n\u001b[1;32m----> 1\u001b[1;33m \u001b[0mforward\u001b[0m\u001b[1;33m(\u001b[0m\u001b[1;33m)\u001b[0m \u001b[1;33m+\u001b[0m \u001b[1;36m20\u001b[0m\u001b[1;33m\u001b[0m\u001b[1;33m\u001b[0m\u001b[0m\n\u001b[0m",
      "\u001b[1;31mNameError\u001b[0m: name 'forward' is not defined"
     ]
    }
   ],
   "source": [
    "forward() + 20"
   ]
  },
  {
   "cell_type": "code",
   "execution_count": 5,
   "metadata": {},
   "outputs": [
    {
     "ename": "NameError",
     "evalue": "name 'forward' is not defined",
     "output_type": "error",
     "traceback": [
      "\u001b[1;31m---------------------------------------------------------------------------\u001b[0m",
      "\u001b[1;31mNameError\u001b[0m                                 Traceback (most recent call last)",
      "\u001b[1;32m<ipython-input-5-54ee85977a81>\u001b[0m in \u001b[0;36m<module>\u001b[1;34m\u001b[0m\n\u001b[1;32m----> 1\u001b[1;33m \u001b[0mforward\u001b[0m\u001b[1;33m(\u001b[0m\u001b[1;36m20\u001b[0m\u001b[1;33m)\u001b[0m\u001b[1;33m\u001b[0m\u001b[1;33m\u001b[0m\u001b[0m\n\u001b[0m",
      "\u001b[1;31mNameError\u001b[0m: name 'forward' is not defined"
     ]
    }
   ],
   "source": [
    "\n",
    "forward(20)"
   ]
  },
  {
   "cell_type": "code",
   "execution_count": 6,
   "metadata": {},
   "outputs": [
    {
     "ename": "NameError",
     "evalue": "name 'forward' is not defined",
     "output_type": "error",
     "traceback": [
      "\u001b[1;31m---------------------------------------------------------------------------\u001b[0m",
      "\u001b[1;31mNameError\u001b[0m                                 Traceback (most recent call last)",
      "\u001b[1;32m<ipython-input-6-9b55eb2d7668>\u001b[0m in \u001b[0;36m<module>\u001b[1;34m\u001b[0m\n\u001b[1;32m----> 1\u001b[1;33m \u001b[0mforward\u001b[0m\u001b[1;33m(\u001b[0m\u001b[1;36m20\u001b[0m\u001b[1;33m)\u001b[0m\u001b[1;33m.\u001b[0m\u001b[0mTex\u001b[0m\u001b[1;33m\u001b[0m\u001b[1;33m\u001b[0m\u001b[0m\n\u001b[0m",
      "\u001b[1;31mNameError\u001b[0m: name 'forward' is not defined"
     ]
    }
   ],
   "source": [
    "\n",
    "forward(20).Tex"
   ]
  },
  {
   "cell_type": "code",
   "execution_count": 7,
   "metadata": {},
   "outputs": [],
   "source": [
    "\n",
    "Tex.forward(10 + 10)"
   ]
  },
  {
   "cell_type": "code",
   "execution_count": 8,
   "metadata": {},
   "outputs": [
    {
     "ename": "NameError",
     "evalue": "name 'myturtle' is not defined",
     "output_type": "error",
     "traceback": [
      "\u001b[1;31m---------------------------------------------------------------------------\u001b[0m",
      "\u001b[1;31mNameError\u001b[0m                                 Traceback (most recent call last)",
      "\u001b[1;32m<ipython-input-8-8d4caa3f5595>\u001b[0m in \u001b[0;36m<module>\u001b[1;34m\u001b[0m\n\u001b[0;32m      1\u001b[0m \u001b[0mwn\u001b[0m \u001b[1;33m=\u001b[0m \u001b[0mturtle\u001b[0m\u001b[1;33m.\u001b[0m\u001b[0mScreen\u001b[0m\u001b[1;33m(\u001b[0m\u001b[1;33m)\u001b[0m      \u001b[1;31m# creates a graphics window\u001b[0m\u001b[1;33m\u001b[0m\u001b[1;33m\u001b[0m\u001b[0m\n\u001b[1;32m----> 2\u001b[1;33m \u001b[0mmine\u001b[0m \u001b[1;33m=\u001b[0m \u001b[0mmyturtle\u001b[0m\u001b[1;33m.\u001b[0m\u001b[0mTurtle\u001b[0m\u001b[1;33m(\u001b[0m\u001b[1;33m)\u001b[0m    \u001b[1;31m# create a turtle named alex\u001b[0m\u001b[1;33m\u001b[0m\u001b[1;33m\u001b[0m\u001b[0m\n\u001b[0m\u001b[0;32m      3\u001b[0m \u001b[0mmine\u001b[0m\u001b[1;33m.\u001b[0m\u001b[0mleft\u001b[0m\u001b[1;33m(\u001b[0m\u001b[1;36m50\u001b[0m\u001b[1;33m)\u001b[0m\u001b[1;33m\u001b[0m\u001b[1;33m\u001b[0m\u001b[0m\n",
      "\u001b[1;31mNameError\u001b[0m: name 'myturtle' is not defined"
     ]
    }
   ],
   "source": [
    "wn = turtle.Screen()      # creates a graphics window\n",
    "mine = myturtle.Turtle()    # create a turtle named alex\n",
    "mine.left(50)"
   ]
  },
  {
   "cell_type": "code",
   "execution_count": 9,
   "metadata": {},
   "outputs": [
    {
     "ename": "AttributeError",
     "evalue": "'Turtle' object has no attribute 'x'",
     "output_type": "error",
     "traceback": [
      "\u001b[1;31m---------------------------------------------------------------------------\u001b[0m",
      "\u001b[1;31mAttributeError\u001b[0m                            Traceback (most recent call last)",
      "\u001b[1;32m<ipython-input-9-80b4267759e6>\u001b[0m in \u001b[0;36m<module>\u001b[1;34m\u001b[0m\n\u001b[0;32m      3\u001b[0m \u001b[0mjane\u001b[0m \u001b[1;33m=\u001b[0m \u001b[0mturtle\u001b[0m\u001b[1;33m.\u001b[0m\u001b[0mTurtle\u001b[0m\u001b[1;33m(\u001b[0m\u001b[1;33m)\u001b[0m\u001b[1;33m\u001b[0m\u001b[1;33m\u001b[0m\u001b[0m\n\u001b[0;32m      4\u001b[0m \u001b[0mjane\u001b[0m\u001b[1;33m.\u001b[0m\u001b[0mforward\u001b[0m\u001b[1;33m(\u001b[0m\u001b[1;36m20\u001b[0m\u001b[1;33m)\u001b[0m\u001b[1;33m\u001b[0m\u001b[1;33m\u001b[0m\u001b[0m\n\u001b[1;32m----> 5\u001b[1;33m \u001b[0mprint\u001b[0m\u001b[1;33m(\u001b[0m\u001b[0mjane\u001b[0m\u001b[1;33m.\u001b[0m\u001b[0mx\u001b[0m\u001b[1;33m)\u001b[0m\u001b[1;33m\u001b[0m\u001b[1;33m\u001b[0m\u001b[0m\n\u001b[0m",
      "\u001b[1;31mAttributeError\u001b[0m: 'Turtle' object has no attribute 'x'"
     ]
    }
   ],
   "source": [
    "import turtle\n",
    "\n",
    "jane = turtle.Turtle()\n",
    "jane.forward(20)\n",
    "print(jane.x)"
   ]
  },
  {
   "cell_type": "code",
   "execution_count": 1,
   "metadata": {},
   "outputs": [],
   "source": [
    "#wall\n",
    "\n",
    "import turtle             # allows us to use the turtles library\n",
    "wn = turtle.Screen()      # creates a graphics window\n",
    "wall = turtle.Turtle()    # create a turtle named wall\n",
    "\n",
    "wall.forward(50)\n",
    "\n",
    "wall.left(90)\n",
    "wall.forward(25)\n",
    "\n",
    "wall.right(90)\n",
    "wall.forward(50)\n",
    "\n",
    "wall.right(90)\n",
    "wall.forward(25)\n",
    "\n",
    "wall.left(90)\n",
    "wall.forward(50)\n",
    "\n",
    "wall.left(90)\n",
    "wall.forward(25)\n",
    "\n",
    "wall.right(90)\n",
    "wall.forward(50)\n",
    "\n",
    "wall.right(90)\n",
    "wall.forward(25)\n",
    "\n",
    "wall.left(90)\n",
    "wall.forward(50)\n",
    "\n",
    "wall.left(90)\n",
    "wall.forward(25)\n",
    "\n",
    "wall.right(90)\n",
    "wall.forward(50)\n",
    "\n",
    "wall.right(90)\n",
    "wall.forward(25)\n",
    "\n",
    "wall.left(90)\n",
    "wall.forward(25)\n",
    "\n",
    "wall.left(90)\n",
    "wall.forward(25)               # to bring the turtle to the next line\n",
    "\n",
    "wall.left(90)\n",
    "wall.forward(25)\n",
    "\n",
    "wall.left(90)\n",
    "wall.forward(25)\n",
    "\n",
    "wall.right(90)\n",
    "wall.forward(50)\n",
    "\n",
    "wall.right(90)\n",
    "wall.forward(25)\n",
    "\n",
    "wall.left(90)\n",
    "wall.forward(50)\n",
    "\n",
    "wall.left(90)\n",
    "wall.forward(25)\n",
    "\n",
    "wall.right(90)\n",
    "wall.forward(50)\n",
    "\n",
    "wall.right(90)\n",
    "wall.forward(25)\n",
    "\n",
    "wall.left(90)\n",
    "wall.forward(50)\n",
    "\n",
    "wall.left(90)\n",
    "wall.forward(25)\n",
    "\n",
    "wall.right(90)\n",
    "wall.forward(50)\n",
    "\n",
    "wall.right(90)\n",
    "wall.forward(25)\n",
    "\n",
    "wall.left(90)\n",
    "wall.forward(25)\n",
    "\n",
    "\n",
    "wall.right(90)\n",
    "wall.forward(25)               # to bring the turtle to the next line\n",
    "\n",
    "wall.right(90)\n",
    "wall.forward(50)\n",
    "\n",
    "wall.left(90)\n",
    "wall.forward(25)\n",
    "\n",
    "wall.right(90)\n",
    "wall.forward(50)\n",
    "\n",
    "wall.right(90)\n",
    "wall.forward(25)\n",
    "\n",
    "wall.left(90)\n",
    "wall.forward(50)\n",
    "\n",
    "wall.left(90)\n",
    "wall.forward(25)\n",
    "\n",
    "wall.right(90)\n",
    "wall.forward(50)\n",
    "\n",
    "wall.right(90)\n",
    "wall.forward(25)\n",
    "\n",
    "wall.left(90)\n",
    "wall.forward(50)\n",
    "\n",
    "wall.left(90)\n",
    "wall.forward(25)\n",
    "\n",
    "wall.right(90)\n",
    "wall.forward(50)\n",
    "\n",
    "wall.right(90)\n",
    "wall.forward(25)\n",
    "\n",
    "wall.left(90)\n",
    "wall.forward(25)\n",
    "\n",
    "\n",
    "\n",
    "\n",
    "wall.right(90)\n",
    "wall.forward(25)               # to bring the turtle to the next line\n",
    "\n",
    "wall.right(90)\n",
    "wall.forward(25)\n",
    "\n",
    "wall.left(90)\n",
    "wall.forward(25)\n",
    "\n",
    "wall.left(90)\n",
    "wall.forward(50)\n",
    "\n",
    "wall.left(90)\n",
    "wall.forward(25)\n",
    "\n",
    "wall.right(90)\n",
    "wall.forward(50)\n",
    "\n",
    "wall.right(90)\n",
    "wall.forward(25)\n",
    "\n",
    "wall.left(90)\n",
    "wall.forward(50)\n",
    "\n",
    "wall.left(90)\n",
    "wall.forward(25)\n",
    "\n",
    "wall.right(90)\n",
    "wall.forward(50)\n",
    "\n",
    "wall.right(90)\n",
    "wall.forward(25)\n",
    "\n",
    "wall.left(90)\n",
    "wall.forward(50)\n",
    "\n",
    "wall.left(90)\n",
    "wall.forward(25)\n",
    "\n",
    "wall.right(90)\n",
    "wall.forward(25)"
   ]
  },
  {
   "cell_type": "code",
   "execution_count": null,
   "metadata": {},
   "outputs": [],
   "source": []
  }
 ],
 "metadata": {
  "kernelspec": {
   "display_name": "Python 3",
   "language": "python",
   "name": "python3"
  },
  "language_info": {
   "codemirror_mode": {
    "name": "ipython",
    "version": 3
   },
   "file_extension": ".py",
   "mimetype": "text/x-python",
   "name": "python",
   "nbconvert_exporter": "python",
   "pygments_lexer": "ipython3",
   "version": "3.7.4"
  }
 },
 "nbformat": 4,
 "nbformat_minor": 2
}

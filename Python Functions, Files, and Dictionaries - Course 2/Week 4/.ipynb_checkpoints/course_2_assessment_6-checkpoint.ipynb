{
 "cells": [
  {
   "cell_type": "markdown",
   "metadata": {},
   "source": [
    "\n",
    "Write a function, sublist, that takes in a list of numbers as the parameter. In the function, use a while loop to return a sublist of the input list. The sublist should contain the same values of the original list up until it reaches the number 5 (it should not contain the number 5).\n"
   ]
  },
  {
   "cell_type": "code",
   "execution_count": 10,
   "metadata": {},
   "outputs": [
    {
     "data": {
      "text/plain": [
       "[3, 76, 32, 3]"
      ]
     },
     "execution_count": 10,
     "metadata": {},
     "output_type": "execute_result"
    }
   ],
   "source": [
    "def sublist(list):\n",
    "    counter = 0\n",
    "    new = []\n",
    "    while(counter < len(list)):\n",
    "        if list[counter] == 5:\n",
    "            return new\n",
    "        else:\n",
    "            new.append(list[counter])\n",
    "        counter += 1\n",
    "    return new\n",
    "\n",
    "\n",
    "        \n",
    "    \n",
    "    \n",
    "sublist([3, 76, 32, 3, 5, 4, 6, 7])\n",
    "\n",
    "\n",
    "        "
   ]
  },
  {
   "cell_type": "code",
   "execution_count": 9,
   "metadata": {},
   "outputs": [
    {
     "name": "stdout",
     "output_type": "stream",
     "text": [
      "4, 3, 7, 5, 8\n",
      "[4, 3, 7]\n"
     ]
    }
   ],
   "source": [
    "def sublist(lst):\n",
    "    counter = 0\n",
    "    new =[]\n",
    "    while counter<len(lst):\n",
    "        if lst[counter] == 5:\n",
    "           return new\n",
    "        else:\n",
    "            new.append(lst[counter])\n",
    "        counter+=1\n",
    "    return new\n",
    "print(sublist(list(map(int, input().strip().split(',')))))"
   ]
  },
  {
   "cell_type": "markdown",
   "metadata": {},
   "source": [
    "Write a function called check_nums that takes a list as its parameter, and contains a while loop that only stops once the element of the list is the number 7. What is returned is a list of all of the numbers up until it reaches 7.\n"
   ]
  },
  {
   "cell_type": "code",
   "execution_count": null,
   "metadata": {},
   "outputs": [],
   "source": [
    "def check_nums(list):\n",
    "    counter = 0\n",
    "    new = []\n",
    "    while (counter < len(list)):\n",
    "        if list[counter] == 7:\n",
    "            return new\n",
    "        else:\n",
    "            new.append(list[counter])\n",
    "        counter += 1\n",
    "    return new\n"
   ]
  },
  {
   "cell_type": "markdown",
   "metadata": {},
   "source": [
    "Write a function, sublist, that takes in a list of strings as the parameter. In the function, use a while loop to return a sublist of the input list. The sublist should contain the same values of the original list up until it reaches the string “STOP” (it should not contain the string “STOP”).\n",
    "\n"
   ]
  },
  {
   "cell_type": "code",
   "execution_count": null,
   "metadata": {},
   "outputs": [],
   "source": [
    "def sublist(list):\n",
    "    counter = 0\n",
    "    new = []\n",
    "    while (counter < len(list)):\n",
    "        if list[counter] == 'STOP':\n",
    "            return new\n",
    "        else:\n",
    "            new.append(list[counter])\n",
    "        counter +=1\n",
    "    return new\n",
    "        "
   ]
  },
  {
   "cell_type": "markdown",
   "metadata": {},
   "source": [
    "Write a function called stop_at_z that iterates through a list of strings. Using a while loop, append each string to a new list until the string that appears is “z”. The function should return the new list.\n"
   ]
  },
  {
   "cell_type": "code",
   "execution_count": null,
   "metadata": {},
   "outputs": [],
   "source": [
    "def stop_at_z(list):\n",
    "    counter = 0\n",
    "    new = []\n",
    "    while (counter < len(list)):\n",
    "        if list[counter] == 'Z':\n",
    "            return new\n",
    "        else:\n",
    "            new.append(list[counter])\n",
    "        counter +=1\n",
    "    return new\n",
    "    "
   ]
  },
  {
   "cell_type": "markdown",
   "metadata": {},
   "source": [
    "    \n",
    "Below is a for loop that works. Underneath the for loop, rewrite the problem so that it does the same thing, but using a while loop instead of a for loop. Assign the accumulated total in the while loop code to the variable sum2. Once complete, sum2 should equal sum1.\n"
   ]
  },
  {
   "cell_type": "code",
   "execution_count": 17,
   "metadata": {},
   "outputs": [],
   "source": [
    "sum1 = 0\n",
    "\n",
    "lst = [65, 78, 21, 33]\n",
    "\n",
    "for x in lst:\n",
    "    sum1 = sum1 + x\n",
    "\n",
    "\n",
    "sum2 = 0\n",
    "counter = 0\n",
    "while (counter != len(lst)):\n",
    "    sum2 = sum2 + lst[counter]\n",
    "    counter += 1\n",
    "\n",
    "    "
   ]
  },
  {
   "cell_type": "markdown",
   "metadata": {},
   "source": [
    "Challenge: Write a function called beginning that takes a list as input and contains a while loop that only stops once the element of the list is the string ‘bye’. What is returned is a list that contains up to the first 10 strings, regardless of where the loop stops. (i.e., if it stops on the 32nd element, the first 10 are returned. If “bye” is the 5th element, the first 4 are returned.) If you want to make this even more of a challenge, do this without slicing\n"
   ]
  },
  {
   "cell_type": "code",
   "execution_count": 21,
   "metadata": {},
   "outputs": [
    {
     "data": {
      "text/plain": [
       "['my', 'big', 'chen']"
      ]
     },
     "execution_count": 21,
     "metadata": {},
     "output_type": "execute_result"
    }
   ],
   "source": [
    "def beginning(list):\n",
    "    counter = 0\n",
    "    new = []\n",
    "    while(list[counter] != 'bye'):\n",
    "        if counter <= 10:\n",
    "            new.append(list[counter])\n",
    "        else:\n",
    "            continue\n",
    "        counter += 1\n",
    "    return new\n",
    "\n",
    "beginning(['my', 'big', 'chen', 'bye', 'pak'])"
   ]
  },
  {
   "cell_type": "code",
   "execution_count": null,
   "metadata": {},
   "outputs": [],
   "source": []
  }
 ],
 "metadata": {
  "kernelspec": {
   "display_name": "Python 3",
   "language": "python",
   "name": "python3"
  },
  "language_info": {
   "codemirror_mode": {
    "name": "ipython",
    "version": 3
   },
   "file_extension": ".py",
   "mimetype": "text/x-python",
   "name": "python",
   "nbconvert_exporter": "python",
   "pygments_lexer": "ipython3",
   "version": "3.7.4"
  }
 },
 "nbformat": 4,
 "nbformat_minor": 2
}

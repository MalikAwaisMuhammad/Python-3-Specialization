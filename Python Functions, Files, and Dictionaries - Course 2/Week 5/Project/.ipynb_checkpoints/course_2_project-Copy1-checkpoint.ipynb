{
 "cells": [
  {
   "cell_type": "markdown",
   "metadata": {},
   "source": [
    "We have provided some synthetic (fake, semi-randomly generated) twitter data in a csv file named project_twitter_data.csv which has the text of a tweet, the number of retweets of that tweet, and the number of replies to that tweet. We have also words that express positive sentiment and negative sentiment, in the files positive_words.txt and negative_words.txt.\n",
    "\n",
    "Your task is to build a sentiment classifier, which will detect how positive or negative each tweet is. You will create a csv file, which contains columns for the Number of Retweets, Number of Replies, Positive Score (which is how many happy words are in the tweet), Negative Score (which is how many angry words are in the tweet), and the Net Score for each tweet. At the end, you upload the csv file to Excel or Google Sheets, and produce a graph of the Net Score vs Number of Retweets.\n",
    "\n",
    "To start, define a function called strip_punctuation which takes one parameter, a string which represents a word, and removes characters considered punctuation from everywhere in the word. (Hint: remember the .replace() method for strings.)"
   ]
  },
  {
   "cell_type": "code",
   "execution_count": 3,
   "metadata": {},
   "outputs": [
    {
     "name": "stdout",
     "output_type": "stream",
     "text": [
      "The force which I said vital is 3 in the list Karachi Game show\n"
     ]
    }
   ],
   "source": [
    "punctuation_chars = [\"'\", '\"', \",\", \".\", \"!\", \":\", \";\", '#', '@']      #already given code\n",
    "\n",
    "def strip_punctuation(strword):\n",
    "    for each_punc in punctuation_chars:\n",
    "        strword = strword.replace(each_punc, '')\n",
    "    return strword\n",
    "\n",
    "\n",
    "strword = \"The force, which I said, 'vital' is: #3 in the list @Karachi Game show#\"\n",
    "print(strip_punctuation(strword))"
   ]
  },
  {
   "cell_type": "markdown",
   "metadata": {},
   "source": [
    "Next, copy in your strip_punctuation function and define a function called get_pos which takes one parameter, a string which represents one or more sentences, and calculates how many words in the string are considered positive words. Use the list, positive_words to determine what words will count as positive. The function should return a positive integer - how many occurrences there are of positive words in the text. Note that all of the words in positive_words are lower cased, so you’ll need to convert all the words in the input string to lower case as well."
   ]
  },
  {
   "cell_type": "code",
   "execution_count": 5,
   "metadata": {},
   "outputs": [
    {
     "name": "stdout",
     "output_type": "stream",
     "text": [
      "2\n",
      "2\n"
     ]
    }
   ],
   "source": [
    "punctuation_chars = [\"'\", '\"', \",\", \".\", \"!\", \":\", \";\", '#', '@']    #already given code\n",
    "\n",
    "def strip_punctuation(strword):\n",
    "    for each_punc in punctuation_chars:\n",
    "        strword = strword.replace(each_punc, '')\n",
    "    return strword\n",
    "\n",
    "# list of positive words to use                                      #already given code\n",
    "positive_words = []                                                  #already given code\n",
    "with open(\"positive_words.txt\") as pos_f:                            #already given code\n",
    "    for lin in pos_f:                                                #already given code\n",
    "        if lin[0] != ';' and lin[0] != '\\n':                         #already given code\n",
    "            positive_words.append(lin.strip())                       #already given code\n",
    "\n",
    "def get_pos(sentences):\n",
    "    without_punc = strip_punctuation(sentences).lower()\n",
    "    strlist = without_punc.split()\n",
    "    count = 0\n",
    "    for a_letter in strlist:\n",
    "        if a_letter in positive_words:\n",
    "            count += 1\n",
    "    return count\n",
    "    \n",
    "    \n",
    "    \n",
    "    \n",
    "print(get_pos(\"what a truly wonderful day it is today! #incredible\"))\n",
    "print(get_pos(\"what a truly Wonderful day it is today! #incredible\"))"
   ]
  },
  {
   "cell_type": "markdown",
   "metadata": {},
   "source": [
    "Next, copy in your strip_punctuation function and define a function called get_neg which takes one parameter, a string which represents one or more sentences, and calculates how many words in the string are considered negative words. Use the list, negative_words to determine what words will count as negative. The function should return a positive integer - how many occurrences there are of negative words in the text. Note that all of the words in negative_words are lower cased, so you’ll need to convert all the words in the input string to lower case as well."
   ]
  },
  {
   "cell_type": "code",
   "execution_count": null,
   "metadata": {},
   "outputs": [],
   "source": [
    "\n",
    "punctuation_chars = [\"'\", '\"', \",\", \".\", \"!\", \":\", \";\", '#', '@']   #already given code\n",
    "\n",
    "def strip_punctuation(strword):\n",
    "    for each_punc in punctuation_chars:\n",
    "        strword = strword.replace(each_punc, '')\n",
    "    return strword\n",
    "\n",
    "negative_words = []                                                #already given code\n",
    "with open(\"negative_words.txt\") as pos_f:                          #already given code\n",
    "    for lin in pos_f:                                              #already given code\n",
    "        if lin[0] != ';' and lin[0] != '\\n':                       #already given code\n",
    "            negative_words.append(lin.strip())                     #already given code\n",
    "\n",
    "def get_neg(sentences):\n",
    "    without_punc = strip_punctuation(sentences).lower()\n",
    "    strlist = without_punc.split()\n",
    "    count = 0\n",
    "    for a_letter in strlist:\n",
    "        if a_letter in negative_words:\n",
    "            count += 1\n",
    "    return count"
   ]
  },
  {
   "cell_type": "markdown",
   "metadata": {},
   "source": [
    "Finally, copy in your previous functions and write code that opens the file project_twitter_data.csv which has the fake generated twitter data (the text of a tweet, the number of retweets of that tweet, and the number of replies to that tweet). Your task is to build a sentiment classifier, which will detect how positive or negative each tweet is. Copy the code from the code windows above, and put that in the top of this code window. Now, you will write code to create a csv file called resulting_data.csv, which contains the Number of Retweets, Number of Replies, Positive Score (which is how many happy words are in the tweet), Negative Score (which is how many angry words are in the tweet), and the Net Score (how positive or negative the text is overall) for each tweet. The file should have those headers in that order. Remember that there is another component to this project. You will upload the csv file to Excel or Google Sheets and produce a graph of the Net Score vs Number of Retweets. Check Coursera for that portion of the assignment, if you’re accessing this textbook from Coursera."
   ]
  },
  {
   "cell_type": "code",
   "execution_count": 7,
   "metadata": {},
   "outputs": [
    {
     "name": "stdout",
     "output_type": "stream",
     "text": [
      "tweet_text,retweet_count,reply_count\n",
      "@twitteruser: On now - @Fusion scores first points #FirstFinals @overwatchleague @umich @umsi Michigan Athletics made out of emojis. #GoBlue,3,0\n",
      "BUNCH of things about crisis responsâ€¦ available July 8thâ€¦ scholarship focuses on improving meâ€¦ in North America! A sâ€¦ and frigid temperatures,1,0\n",
      "FREE ice cream with these local area deals: chance to pitch yourself to hundreds of employers? Msi student Name Here is spending her summer,1,2\n",
      "AWAY from the Internet of Things attacksâ€¦ right and the left? Seeâ€¦ use DIY language to discuss other projects not traditionally viewed as masculine,3,1\n",
      "IN City Name!â€¦ from @twitteruser has some amazing datasets and tools for collective action. - UMSI aâ€¦ grateful forâ€¦ equipping elderly African-American,6,0\n",
      "ENTREPRENEURSHIP in #City.â€¦ a great social media job opportunity for our UMSI alumni looking to work at City Name Public Schools! #goblue,9,5\n",
      "BRINGING #datascience to community researchers with a team of researchers have been helping people in 'lean' economies learn entrepreneurial,19,0\n",
      "WHY not pay you?â€¦ endure crushing pressures and frigid temperatures but the most difficult part ofâ€¦ faculty and staff across the city,0,0\n",
      "A bunch of things about crisis responsâ€¦ â€“ but the implications are much bigger tâ€¦ for some but a financial burden for others. @umichdpss and,0,0\n",
      "@THEEMMYS nomination for Best Lead Actor in a library role focused on Digital Services and Projects? As a bonus you get to work at tâ€¦ by @cab938,82,2\n",
      "THIS headline has been inescapable this summer. Now the infectious chart-topper from 'Scorpion' gets a viâ€¦ Seventh Victim 'Scorpion' gets a,0,0\n",
      "OF wine with a shoe? Yes but it ain't pretty. Its First Amendment rights. That it claims will forâ€¦ and non-binary musicians shaping the sound,0,0\n",
      "HAVE detained six people in history to ride to orbit in private space taxis next year if all to faithful them is that they simply can't afford,47,0\n",
      "PET Name. She is 1 year old Shiba Inu. When her caregiver is not at home Name likes to haveâ€¦ I tell them about my website and ask if my,2,1\n",
      "YOUâ€™RE welcome! He was a mix of many breeds. He is a 2 year old Yellow Lab. When he was a mix of breeds but has the bark of a road!!,0,2\n",
      "Name. He is wild and playful. He likes to chase and play with his stuffed elephant! the Dir. Of Human Resources @twitteruser. He is a,0,0\n",
      "BORDER Terrier puppy. Name is loving and very protective of the people she loves. Name2 is a 3 year old Maltipoo. Name3 is an 8 year old Corgi.,4,6\n",
      "REASON they did not rain but they will reign beautifully couldn't asked for a crime 80 years in the Spring Name's Last Love absolutely love,19,0\n",
      "HOME surrounded by snow in my Garden. But City Name people musn't: such a good book: RT @twitteruser The Literature of Conflicted Lands after a,0,0\n"
     ]
    }
   ],
   "source": [
    "\n",
    "punctuation_chars = [\"'\", '\"', \",\", \".\", \"!\", \":\", \";\", '#', '@']        #already given code\n",
    "\n",
    "def strip_punctuation(strword):\n",
    "    for each_punc in punctuation_chars:\n",
    "        strword = strword.replace(each_punc, '')\n",
    "    return strword\n",
    "\n",
    "# lists of words to use                                                  #already given code\n",
    "positive_words = []                                                      #already given code\n",
    "with open(\"positive_words.txt\") as pos_f:                                #already given code\n",
    "    for lin in pos_f:                                                    #already given code\n",
    "        if lin[0] != ';' and lin[0] != '\\n':                             #already given code\n",
    "            positive_words.append(lin.strip())                           #already given code\n",
    "            \n",
    "def get_pos(sentences):\n",
    "    without_punc = strip_punctuation(sentences).lower()\n",
    "    strlist = without_punc.split()\n",
    "    count = 0\n",
    "    for a_letter in strlist:\n",
    "        if a_letter in positive_words:\n",
    "            count += 1\n",
    "    return count               \n",
    "\n",
    "negative_words = []                                                      #already given code\n",
    "with open(\"negative_words.txt\") as pos_f:                                #already given code\n",
    "    for lin in pos_f:                                                    #already given code\n",
    "        if lin[0] != ';' and lin[0] != '\\n':                             #already given code\n",
    "            negative_words.append(lin.strip())                           #already given code\n",
    "\n",
    "def get_neg(sentences):\n",
    "    without_punc = strip_punctuation(sentences).lower()\n",
    "    strlist = without_punc.split()\n",
    "    count = 0\n",
    "    for a_letter in strlist:\n",
    "        if a_letter in negative_words:\n",
    "            count += 1\n",
    "    return count\n",
    "\n",
    "\n",
    "with open('project_twitter_data.csv', 'r') as file:\n",
    "    pos_score = get_pos(file)\n",
    "    neg_score = get_neg(file)"
   ]
  },
  {
   "cell_type": "code",
   "execution_count": null,
   "metadata": {},
   "outputs": [],
   "source": []
  }
 ],
 "metadata": {
  "kernelspec": {
   "display_name": "Python 3",
   "language": "python",
   "name": "python3"
  },
  "language_info": {
   "codemirror_mode": {
    "name": "ipython",
    "version": 3
   },
   "file_extension": ".py",
   "mimetype": "text/x-python",
   "name": "python",
   "nbconvert_exporter": "python",
   "pygments_lexer": "ipython3",
   "version": "3.7.4"
  }
 },
 "nbformat": 4,
 "nbformat_minor": 2
}

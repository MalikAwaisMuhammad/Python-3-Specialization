{
 "cells": [
  {
   "cell_type": "markdown",
   "metadata": {},
   "source": [
    "We have provided some synthetic (fake, semi-randomly generated) twitter data in a csv file named project_twitter_data.csv which has the text of a tweet, the number of retweets of that tweet, and the number of replies to that tweet. We have also words that express positive sentiment and negative sentiment, in the files positive_words.txt and negative_words.txt.\n",
    "\n",
    "Your task is to build a sentiment classifier, which will detect how positive or negative each tweet is. You will create a csv file, which contains columns for the Number of Retweets, Number of Replies, Positive Score (which is how many happy words are in the tweet), Negative Score (which is how many angry words are in the tweet), and the Net Score for each tweet. At the end, you upload the csv file to Excel or Google Sheets, and produce a graph of the Net Score vs Number of Retweets.\n",
    "\n",
    "To start, define a function called strip_punctuation which takes one parameter, a string which represents a word, and removes characters considered punctuation from everywhere in the word. (Hint: remember the .replace() method for strings.)"
   ]
  },
  {
   "cell_type": "code",
   "execution_count": 3,
   "metadata": {},
   "outputs": [
    {
     "name": "stdout",
     "output_type": "stream",
     "text": [
      "The force which I said vital is 3 in the list Karachi Game show\n"
     ]
    }
   ],
   "source": [
    "punctuation_chars = [\"'\", '\"', \",\", \".\", \"!\", \":\", \";\", '#', '@']      #already given code\n",
    "\n",
    "def strip_punctuation(strword):\n",
    "    for each_punc in punctuation_chars:\n",
    "        strword = strword.replace(each_punc, '')\n",
    "    return strword\n",
    "\n",
    "\n",
    "strword = \"The force, which I said, 'vital' is: #3 in the list @Karachi Game show#\"\n",
    "print(strip_punctuation(strword))"
   ]
  },
  {
   "cell_type": "markdown",
   "metadata": {},
   "source": [
    "Next, copy in your strip_punctuation function and define a function called get_pos which takes one parameter, a string which represents one or more sentences, and calculates how many words in the string are considered positive words. Use the list, positive_words to determine what words will count as positive. The function should return a positive integer - how many occurrences there are of positive words in the text. Note that all of the words in positive_words are lower cased, so you’ll need to convert all the words in the input string to lower case as well."
   ]
  },
  {
   "cell_type": "code",
   "execution_count": 11,
   "metadata": {},
   "outputs": [
    {
     "name": "stdout",
     "output_type": "stream",
     "text": [
      "2\n",
      "2\n"
     ]
    }
   ],
   "source": [
    "punctuation_chars = [\"'\", '\"', \",\", \".\", \"!\", \":\", \";\", '#', '@']    #already given code\n",
    "\n",
    "def strip_punctuation(strword):\n",
    "    for each_punc in punctuation_chars:\n",
    "        strword = strword.replace(each_punc, '')\n",
    "    return strword\n",
    "\n",
    "# list of positive words to use                                      #already given code\n",
    "positive_words = []                                                  #already given code\n",
    "with open(\"positive_words.txt\") as pos_f:                            #already given code\n",
    "    for lin in pos_f:                                                #already given code\n",
    "        if lin[0] != ';' and lin[0] != '\\n':                         #already given code\n",
    "            positive_words.append(lin.strip())                       #already given code\n",
    "\n",
    "def get_pos(sentences):\n",
    "    without_punc = strip_punctuation(sentences).lower()\n",
    "    strlist = without_punc.split()\n",
    "    count = 0\n",
    "    for a_letter in strlist:\n",
    "        if a_letter in positive_words:\n",
    "            count += 1\n",
    "    return count\n",
    "    \n",
    "    \n",
    "    \n",
    "    \n",
    "print(get_pos(\"what a truly wonderful day it is today! #incredible\"))\n",
    "print(get_pos(\"what a truly Wonderful day it is today! #incredible\"))"
   ]
  },
  {
   "cell_type": "markdown",
   "metadata": {},
   "source": [
    "Next, copy in your strip_punctuation function and define a function called get_neg which takes one parameter, a string which represents one or more sentences, and calculates how many words in the string are considered negative words. Use the list, negative_words to determine what words will count as negative. The function should return a positive integer - how many occurrences there are of negative words in the text. Note that all of the words in negative_words are lower cased, so you’ll need to convert all the words in the input string to lower case as well."
   ]
  },
  {
   "cell_type": "code",
   "execution_count": 9,
   "metadata": {},
   "outputs": [],
   "source": [
    "\n",
    "punctuation_chars = [\"'\", '\"', \",\", \".\", \"!\", \":\", \";\", '#', '@']   #already given code\n",
    "\n",
    "def strip_punctuation(strword):\n",
    "    for each_punc in punctuation_chars:\n",
    "        strword = strword.replace(each_punc, '')\n",
    "    return strword\n",
    "\n",
    "negative_words = []                                                #already given code\n",
    "with open(\"negative_words.txt\") as pos_f:                          #already given code\n",
    "    for lin in pos_f:                                              #already given code\n",
    "        if lin[0] != ';' and lin[0] != '\\n':                       #already given code\n",
    "            negative_words.append(lin.strip())                     #already given code\n",
    "\n",
    "def get_neg(sentences):\n",
    "    without_punc = strip_punctuation(sentences).lower()\n",
    "    strlist = without_punc.split()\n",
    "    count = 0\n",
    "    for a_letter in strlist:\n",
    "        if a_letter in negative_words:\n",
    "            count += 1\n",
    "    return count"
   ]
  },
  {
   "cell_type": "markdown",
   "metadata": {},
   "source": [
    "Finally, copy in your previous functions and write code that opens the file project_twitter_data.csv which has the fake generated twitter data (the text of a tweet, the number of retweets of that tweet, and the number of replies to that tweet). Your task is to build a sentiment classifier, which will detect how positive or negative each tweet is. Copy the code from the code windows above, and put that in the top of this code window. Now, you will write code to create a csv file called resulting_data.csv, which contains the Number of Retweets, Number of Replies, Positive Score (which is how many happy words are in the tweet), Negative Score (which is how many angry words are in the tweet), and the Net Score (how positive or negative the text is overall) for each tweet. The file should have those headers in that order. Remember that there is another component to this project. You will upload the csv file to Excel or Google Sheets and produce a graph of the Net Score vs Number of Retweets. Check Coursera for that portion of the assignment, if you’re accessing this textbook from Coursera."
   ]
  },
  {
   "cell_type": "code",
   "execution_count": 16,
   "metadata": {},
   "outputs": [
    {
     "ename": "AttributeError",
     "evalue": "'_io.TextIOWrapper' object has no attribute 'replace'",
     "output_type": "error",
     "traceback": [
      "\u001b[1;31m---------------------------------------------------------------------------\u001b[0m",
      "\u001b[1;31mAttributeError\u001b[0m                            Traceback (most recent call last)",
      "\u001b[1;32m<ipython-input-16-1850772e5073>\u001b[0m in \u001b[0;36m<module>\u001b[1;34m\u001b[0m\n\u001b[0;32m     42\u001b[0m \u001b[1;33m\u001b[0m\u001b[0m\n\u001b[0;32m     43\u001b[0m \u001b[1;33m\u001b[0m\u001b[0m\n\u001b[1;32m---> 44\u001b[1;33m     \u001b[0mpos_score\u001b[0m \u001b[1;33m=\u001b[0m \u001b[0mget_pos\u001b[0m\u001b[1;33m(\u001b[0m\u001b[0mfile\u001b[0m\u001b[1;33m)\u001b[0m\u001b[1;33m\u001b[0m\u001b[1;33m\u001b[0m\u001b[0m\n\u001b[0m\u001b[0;32m     45\u001b[0m     \u001b[0mneg_score\u001b[0m \u001b[1;33m=\u001b[0m \u001b[0mget_neg\u001b[0m\u001b[1;33m(\u001b[0m\u001b[0mfile\u001b[0m\u001b[1;33m)\u001b[0m\u001b[1;33m\u001b[0m\u001b[1;33m\u001b[0m\u001b[0m\n\u001b[0;32m     46\u001b[0m     \u001b[0mprint\u001b[0m\u001b[1;33m(\u001b[0m\u001b[0mpos_score\u001b[0m\u001b[1;33m)\u001b[0m\u001b[1;33m\u001b[0m\u001b[1;33m\u001b[0m\u001b[0m\n",
      "\u001b[1;32m<ipython-input-16-1850772e5073>\u001b[0m in \u001b[0;36mget_pos\u001b[1;34m(sentences)\u001b[0m\n\u001b[0;32m     17\u001b[0m \u001b[1;33m\u001b[0m\u001b[0m\n\u001b[0;32m     18\u001b[0m     \u001b[1;32mdef\u001b[0m \u001b[0mget_pos\u001b[0m\u001b[1;33m(\u001b[0m\u001b[0msentences\u001b[0m\u001b[1;33m)\u001b[0m\u001b[1;33m:\u001b[0m\u001b[1;33m\u001b[0m\u001b[1;33m\u001b[0m\u001b[0m\n\u001b[1;32m---> 19\u001b[1;33m         \u001b[0mwithout_punc\u001b[0m \u001b[1;33m=\u001b[0m \u001b[0mstrip_punctuation\u001b[0m\u001b[1;33m(\u001b[0m\u001b[0msentences\u001b[0m\u001b[1;33m)\u001b[0m\u001b[1;33m.\u001b[0m\u001b[0mlower\u001b[0m\u001b[1;33m(\u001b[0m\u001b[1;33m)\u001b[0m\u001b[1;33m\u001b[0m\u001b[1;33m\u001b[0m\u001b[0m\n\u001b[0m\u001b[0;32m     20\u001b[0m         \u001b[0mstrlist\u001b[0m \u001b[1;33m=\u001b[0m \u001b[0mwithout_punc\u001b[0m\u001b[1;33m.\u001b[0m\u001b[0msplit\u001b[0m\u001b[1;33m(\u001b[0m\u001b[1;33m)\u001b[0m\u001b[1;33m\u001b[0m\u001b[1;33m\u001b[0m\u001b[0m\n\u001b[0;32m     21\u001b[0m         \u001b[0mcount\u001b[0m \u001b[1;33m=\u001b[0m \u001b[1;36m0\u001b[0m\u001b[1;33m\u001b[0m\u001b[1;33m\u001b[0m\u001b[0m\n",
      "\u001b[1;32m<ipython-input-16-1850772e5073>\u001b[0m in \u001b[0;36mstrip_punctuation\u001b[1;34m(strword)\u001b[0m\n\u001b[0;32m      6\u001b[0m     \u001b[1;32mdef\u001b[0m \u001b[0mstrip_punctuation\u001b[0m\u001b[1;33m(\u001b[0m\u001b[0mstrword\u001b[0m\u001b[1;33m)\u001b[0m\u001b[1;33m:\u001b[0m\u001b[1;33m\u001b[0m\u001b[1;33m\u001b[0m\u001b[0m\n\u001b[0;32m      7\u001b[0m         \u001b[1;32mfor\u001b[0m \u001b[0meach_punc\u001b[0m \u001b[1;32min\u001b[0m \u001b[0mpunctuation_chars\u001b[0m\u001b[1;33m:\u001b[0m\u001b[1;33m\u001b[0m\u001b[1;33m\u001b[0m\u001b[0m\n\u001b[1;32m----> 8\u001b[1;33m             \u001b[0mstrword\u001b[0m \u001b[1;33m=\u001b[0m \u001b[0mstrword\u001b[0m\u001b[1;33m.\u001b[0m\u001b[0mreplace\u001b[0m\u001b[1;33m(\u001b[0m\u001b[0meach_punc\u001b[0m\u001b[1;33m,\u001b[0m \u001b[1;34m''\u001b[0m\u001b[1;33m)\u001b[0m\u001b[1;33m\u001b[0m\u001b[1;33m\u001b[0m\u001b[0m\n\u001b[0m\u001b[0;32m      9\u001b[0m         \u001b[1;32mreturn\u001b[0m \u001b[0mstrword\u001b[0m\u001b[1;33m\u001b[0m\u001b[1;33m\u001b[0m\u001b[0m\n\u001b[0;32m     10\u001b[0m \u001b[1;33m\u001b[0m\u001b[0m\n",
      "\u001b[1;31mAttributeError\u001b[0m: '_io.TextIOWrapper' object has no attribute 'replace'"
     ]
    }
   ],
   "source": [
    "with open('project_twitter_data.csv', 'r') as file:\n",
    "    \n",
    "    \n",
    "    punctuation_chars = [\"'\", '\"', \",\", \".\", \"!\", \":\", \";\", '#', '@']        #already given code\n",
    "\n",
    "    def strip_punctuation(strword):\n",
    "        for each_punc in punctuation_chars:\n",
    "            strword = strword.replace(each_punc, '')\n",
    "        return strword\n",
    "\n",
    "    # lists of words to use                                                  #already given code\n",
    "    positive_words = []                                                      #already given code\n",
    "    with open(\"positive_words.txt\") as pos_f:                                #already given code\n",
    "        for lin in pos_f:                                                    #already given code\n",
    "            if lin[0] != ';' and lin[0] != '\\n':                             #already given code\n",
    "                positive_words.append(lin.strip())                           #already given code\n",
    "            \n",
    "    def get_pos(sentences):\n",
    "        without_punc = strip_punctuation(sentences).lower()\n",
    "        strlist = without_punc.split()\n",
    "        count = 0\n",
    "        for a_letter in strlist:\n",
    "            if a_letter in positive_words:\n",
    "                count += 1\n",
    "        return count               \n",
    "\n",
    "    negative_words = []                                                      #already given code\n",
    "    with open(\"negative_words.txt\") as pos_f:                                #already given code\n",
    "        for lin in pos_f:                                                    #already given code\n",
    "            if lin[0] != ';' and lin[0] != '\\n':                             #already given code\n",
    "                negative_words.append(lin.strip())                           #already given code\n",
    "\n",
    "    def get_neg(sentences):\n",
    "        without_punc = strip_punctuation(sentences).lower()\n",
    "        strlist = without_punc.split()\n",
    "        count = 0\n",
    "        for a_letter in strlist:\n",
    "            if a_letter in negative_words:\n",
    "                count += 1\n",
    "        return count\n",
    "\n",
    "\n",
    "\n",
    "    pos_score = get_pos(file)\n",
    "    neg_score = get_neg(file)\n",
    "    print(pos_score)\n",
    "\n",
    "    \n"
   ]
  },
  {
   "cell_type": "code",
   "execution_count": 3,
   "metadata": {},
   "outputs": [],
   "source": [
    "with open(\"project_twitter_data.csv\",\"r\") as projectTwitterDataFile:\n",
    "    with open(\"somenewanotherfile.csv\",\"w\") as resultingDataFile:\n",
    "            \n",
    "        punctuation_chars = [\"'\", '\"', \",\", \".\", \"!\", \":\", \";\", '#', '@']        #already given code\n",
    "\n",
    "        def strip_punctuation(strword):\n",
    "            for each_punc in punctuation_chars:\n",
    "                strword = strword.replace(each_punc, '')\n",
    "            return strword\n",
    "\n",
    "        # lists of words to use                                                  #already given code\n",
    "        positive_words = []                                                      #already given code\n",
    "        with open(\"positive_words.txt\") as pos_f:                                #already given code\n",
    "            for lin in pos_f:                                                    #already given code\n",
    "                if lin[0] != ';' and lin[0] != '\\n':                             #already given code\n",
    "                    positive_words.append(lin.strip())                           #already given code\n",
    "\n",
    "        def get_pos(sentences):\n",
    "            without_punc = strip_punctuation(sentences).lower()\n",
    "            strlist = without_punc.split()\n",
    "            count = 0\n",
    "            for a_letter in strlist:\n",
    "                if a_letter in positive_words:\n",
    "                    count += 1\n",
    "            return count               \n",
    "\n",
    "        negative_words = []                                                      #already given code\n",
    "        with open(\"negative_words.txt\") as pos_f:                                #already given code\n",
    "            for lin in pos_f:                                                    #already given code\n",
    "                if lin[0] != ';' and lin[0] != '\\n':                             #already given code\n",
    "                    negative_words.append(lin.strip())                           #already given code\n",
    "\n",
    "        def get_neg(sentences):\n",
    "            without_punc = strip_punctuation(sentences).lower()\n",
    "            strlist = without_punc.split()\n",
    "            count = 0\n",
    "            for a_letter in strlist:\n",
    "                if a_letter in negative_words:\n",
    "                    count += 1\n",
    "            return count\n",
    "\n",
    "\n",
    "\n",
    "        def writeInDataFile(resultingDataFile):\n",
    "            resultingDataFile.write(\"Number of Retweets, Number of Replies, Positive Score, Negative Score, Net Score\")\n",
    "            resultingDataFile.write(\"\\n\")\n",
    "\n",
    "            linesPTDF =  projectTwitterDataFile.readlines()\n",
    "            headerDontUsed= linesPTDF.pop(0)\n",
    "            for linesTD in linesPTDF:\n",
    "                listTD = linesTD.strip().split(',')\n",
    "                resultingDataFile.write(\"{}, {}, {}, {}, {}\".format(listTD[1], listTD[2], get_pos(listTD[0]), get_neg(listTD[0]), (get_pos(listTD[0])-get_neg(listTD[0]))))    \n",
    "                resultingDataFile.write(\"\\n\")\n",
    "\n",
    "\n",
    "\n",
    "        writeInDataFile(resultingDataFile)\n",
    "        "
   ]
  },
  {
   "cell_type": "code",
   "execution_count": null,
   "metadata": {},
   "outputs": [],
   "source": [
    "with open(\"project_twitter_data.csv\",\"r\") as projectTwitterDataFile:"
   ]
  }
 ],
 "metadata": {
  "kernelspec": {
   "display_name": "Python 3",
   "language": "python",
   "name": "python3"
  },
  "language_info": {
   "codemirror_mode": {
    "name": "ipython",
    "version": 3
   },
   "file_extension": ".py",
   "mimetype": "text/x-python",
   "name": "python",
   "nbconvert_exporter": "python",
   "pygments_lexer": "ipython3",
   "version": "3.7.4"
  }
 },
 "nbformat": 4,
 "nbformat_minor": 2
}

{
 "cells": [
  {
   "cell_type": "markdown",
   "metadata": {},
   "source": [
    "Sort the following string alphabetically, from z to a, and assign it to the variable sorted_letters."
   ]
  },
  {
   "cell_type": "code",
   "execution_count": 6,
   "metadata": {},
   "outputs": [
    {
     "data": {
      "text/plain": [
       "['z',\n",
       " 'w',\n",
       " 'w',\n",
       " 'u',\n",
       " 's',\n",
       " 's',\n",
       " 'n',\n",
       " 'l',\n",
       " 'l',\n",
       " 'l',\n",
       " 'k',\n",
       " 'j',\n",
       " 'i',\n",
       " 'i',\n",
       " 'f',\n",
       " 'e',\n",
       " 'e',\n",
       " 'd',\n",
       " 'a',\n",
       " 'a',\n",
       " 'a',\n",
       " 'a']"
      ]
     },
     "execution_count": 6,
     "metadata": {},
     "output_type": "execute_result"
    }
   ],
   "source": [
    "letters = \"alwnfiwaksuezlaeiajsdl\"\n",
    "sorted_letters = list(reversed(sorted(letters)))\n",
    "sorted_letters"
   ]
  },
  {
   "cell_type": "markdown",
   "metadata": {},
   "source": [
    "Sort the list below, animals, into alphabetical order, a-z. Save the new list as animals_sorted."
   ]
  },
  {
   "cell_type": "code",
   "execution_count": 7,
   "metadata": {},
   "outputs": [
    {
     "data": {
      "text/plain": [
       "['antelope',\n",
       " 'bear',\n",
       " 'cat',\n",
       " 'cow',\n",
       " 'deer',\n",
       " 'elephant',\n",
       " 'elk',\n",
       " 'giraffe',\n",
       " 'goat',\n",
       " 'minx',\n",
       " 'moose',\n",
       " 'otter',\n",
       " 'rabbit',\n",
       " 'salamander',\n",
       " 'tiger',\n",
       " 'yak',\n",
       " 'zebra']"
      ]
     },
     "execution_count": 7,
     "metadata": {},
     "output_type": "execute_result"
    }
   ],
   "source": [
    "\n",
    "animals = ['elephant', 'cat', 'moose', 'antelope', 'elk', 'rabbit', 'zebra', 'yak', 'salamander', 'deer', 'otter', 'minx', 'giraffe', 'goat', 'cow', 'tiger', 'bear']\n",
    "animals_sorted = list(sorted(animals))\n",
    "animals_sorted"
   ]
  },
  {
   "cell_type": "markdown",
   "metadata": {},
   "source": [
    "The dictionary, medals, shows the medal count for six countries during the Rio Olympics. Sort the country names so they appear alphabetically. Save this list to the variable alphabetical."
   ]
  },
  {
   "cell_type": "code",
   "execution_count": 9,
   "metadata": {},
   "outputs": [
    {
     "data": {
      "text/plain": [
       "['China', 'Germany', 'Japan', 'Russia', 'South Korea', 'United States']"
      ]
     },
     "execution_count": 9,
     "metadata": {},
     "output_type": "execute_result"
    }
   ],
   "source": [
    "\n",
    "medals = {'Japan':41, 'Russia':56, 'South Korea':21, 'United States':121, 'Germany':42, 'China':70}\n",
    "\n",
    "alphabetical = sorted(medals.keys())\n",
    "alphabetical"
   ]
  },
  {
   "cell_type": "markdown",
   "metadata": {},
   "source": [
    "Given the same dictionary, medals, now sort by the medal count. Save the three countries with the highest medal count to the list, top_three."
   ]
  },
  {
   "cell_type": "code",
   "execution_count": 11,
   "metadata": {},
   "outputs": [
    {
     "data": {
      "text/plain": [
       "['United States', 'South Korea', 'Russia', 'Japan', 'Germany', 'China']"
      ]
     },
     "execution_count": 11,
     "metadata": {},
     "output_type": "execute_result"
    }
   ],
   "source": [
    "\n",
    "medals = {'Japan':41, 'Russia':56, 'South Korea':21, 'United States':121, 'Germany':42, 'China':70}\n",
    "#top_three = sorted(medals.values())[-3:]\n",
    "\n",
    "mo = {}\n",
    "most = []\n",
    "most_needed = []\n",
    "\n",
    "for keys, values in medals.items():\n",
    "    mo[values] = keys\n",
    "\n",
    "top_three = sorted(mo.values())))\n",
    "top_three"
   ]
  },
  {
   "cell_type": "code",
   "execution_count": 29,
   "metadata": {},
   "outputs": [
    {
     "name": "stdout",
     "output_type": "stream",
     "text": [
      "['United States', 'China', 'Russia']\n"
     ]
    }
   ],
   "source": [
    "medals = {'Japan':41, 'Russia':56, 'South Korea':21, 'United States':121, 'Germany':42, 'China':70}\n",
    "\n",
    "mos = {}\n",
    "most = []\n",
    "top_three = []\n",
    "\n",
    "#most = list(reversed(sorted(groceries.values())))\n",
    "\n",
    "#most_needed = groceries.pop\n",
    "\n",
    "for keys, values in medals.items():\n",
    "    mos[values] = keys\n",
    "\n",
    "#top_three = sorted(mos.values())[-3:]\n",
    "\n",
    "most = list(reversed(sorted(mos.keys())))[:3]\n",
    "#most\n",
    "#print(most)\n",
    "for i in most:\n",
    "    top_three.append(mos.get(i))\n",
    "#print(top_three)"
   ]
  },
  {
   "cell_type": "code",
   "execution_count": 45,
   "metadata": {},
   "outputs": [
    {
     "data": {
      "text/plain": [
       "['United States', 'China', 'Russia']"
      ]
     },
     "execution_count": 45,
     "metadata": {},
     "output_type": "execute_result"
    }
   ],
   "source": [
    "medals = {'Japan':41, 'Russia':56, 'South Korea':21, 'United States':121, 'Germany':42, 'China':70}\n",
    "\n",
    "top_three = []\n",
    "def g(k,d):\n",
    "    return d[k]\n",
    "ks = medals.keys()\n",
    "top_three = sorted(ks,key=lambda x : g(x,medals),reverse = True)[:3] \n",
    "top_three"
   ]
  },
  {
   "cell_type": "markdown",
   "metadata": {},
   "source": [
    "We have provided the dictionary groceries. You should return a list of its keys, but they should be sorted by their values, from highest to lowest. Save the new list as most_needed."
   ]
  },
  {
   "cell_type": "code",
   "execution_count": 4,
   "metadata": {},
   "outputs": [
    {
     "ename": "TypeError",
     "evalue": "list indices must be integers or slices, not str",
     "output_type": "error",
     "traceback": [
      "\u001b[1;31m---------------------------------------------------------------------------\u001b[0m",
      "\u001b[1;31mTypeError\u001b[0m                                 Traceback (most recent call last)",
      "\u001b[1;32m<ipython-input-4-d73e2e95d0be>\u001b[0m in \u001b[0;36m<module>\u001b[1;34m\u001b[0m\n\u001b[0;32m     12\u001b[0m \u001b[1;33m\u001b[0m\u001b[0m\n\u001b[0;32m     13\u001b[0m \u001b[1;32mfor\u001b[0m \u001b[0mi\u001b[0m \u001b[1;32min\u001b[0m \u001b[0mmost\u001b[0m\u001b[1;33m:\u001b[0m\u001b[1;33m\u001b[0m\u001b[1;33m\u001b[0m\u001b[0m\n\u001b[1;32m---> 14\u001b[1;33m     \u001b[0mmost_needed\u001b[0m\u001b[1;33m.\u001b[0m\u001b[0mappend\u001b[0m\u001b[1;33m(\u001b[0m\u001b[0mgroceries\u001b[0m\u001b[1;33m.\u001b[0m\u001b[0mfromkeys\u001b[0m\u001b[1;33m(\u001b[0m\u001b[0mmost\u001b[0m\u001b[1;33m[\u001b[0m\u001b[0mi\u001b[0m\u001b[1;33m]\u001b[0m\u001b[1;33m)\u001b[0m\u001b[1;33m)\u001b[0m\u001b[1;33m\u001b[0m\u001b[1;33m\u001b[0m\u001b[0m\n\u001b[0m\u001b[0;32m     15\u001b[0m \u001b[1;33m\u001b[0m\u001b[0m\n\u001b[0;32m     16\u001b[0m \u001b[0mmost_needed\u001b[0m\u001b[1;33m\u001b[0m\u001b[1;33m\u001b[0m\u001b[0m\n",
      "\u001b[1;31mTypeError\u001b[0m: list indices must be integers or slices, not str"
     ]
    }
   ],
   "source": [
    "\n",
    "groceries = {'apples': 5, 'pasta': 3, 'carrots': 12, 'orange juice': 2, 'bananas': 8, 'popcorn': 1, 'salsa': 3, 'cereal': 4, 'coffee': 5, 'granola bars': 15, 'onions': 7, 'rice': 1, 'peanut butter': 2, 'spinach': 9}\n",
    "\n",
    "most_needed = []\n",
    "\n",
    "most = list(reversed(sorted(groceries.values())))\n",
    "\n",
    "for i in most:\n",
    "    most_needed.append(groceries.fromkeys(most[i]))\n",
    "    \n",
    "most_needed\n",
    "\n"
   ]
  },
  {
   "cell_type": "code",
   "execution_count": 41,
   "metadata": {},
   "outputs": [
    {
     "name": "stdout",
     "output_type": "stream",
     "text": [
      "{'apples': 5, 'pasta': 3, 'carrots': 12, 'orange juice': 2, 'bananas': 8, 'popcorn': 1, 'salsa': 3, 'cereal': 4, 'coffee': 5, 'granola bars': 15, 'onions': 7, 'rice': 1, 'peanut butter': 2, 'spinach': 9}\n",
      "{'5': 'coffee', '3': 'salsa', '12': 'carrots', '2': 'peanut butter', '8': 'bananas', '1': 'rice', '4': 'cereal', '15': 'granola bars', '7': 'onions', '9': 'spinach'}\n"
     ]
    }
   ],
   "source": [
    "groceries = {\n",
    "    'apples': 5, \n",
    "    'pasta': 3, \n",
    "    'carrots': 12, \n",
    "    'orange juice': 2, \n",
    "    'bananas': 8, \n",
    "    'popcorn': 1, \n",
    "    'salsa': 3, \n",
    "    'cereal': 4, \n",
    "    'coffee': 5, \n",
    "    'granola bars': 15, \n",
    "    'onions': 7, \n",
    "    'rice': 1, \n",
    "    'peanut butter': 2, \n",
    "    'spinach': 9}\n",
    "\n",
    "mostn = {}\n",
    "most = []\n",
    "most_needed = []\n",
    "\n",
    "#most = list(reversed(sorted(groceries.values())))\n",
    "\n",
    "print(groceries)\n",
    "\n",
    "for keys, values in groceries.items():\n",
    "    mostn[str(values)] = keys\n",
    "print(mostn)\n",
    "\n",
    "#most = list(reversed(sorted(most_n.keys())))\n",
    "#print(most)\n",
    "#for i in most:\n",
    "#    most_needed.append(most_n.get(i))\n",
    "#print(most_needed)\n"
   ]
  },
  {
   "cell_type": "code",
   "execution_count": 46,
   "metadata": {},
   "outputs": [
    {
     "data": {
      "text/plain": [
       "['granola bars',\n",
       " 'carrots',\n",
       " 'spinach',\n",
       " 'bananas',\n",
       " 'onions',\n",
       " 'apples',\n",
       " 'coffee',\n",
       " 'cereal',\n",
       " 'pasta',\n",
       " 'salsa',\n",
       " 'orange juice',\n",
       " 'peanut butter',\n",
       " 'popcorn',\n",
       " 'rice']"
      ]
     },
     "execution_count": 46,
     "metadata": {},
     "output_type": "execute_result"
    }
   ],
   "source": [
    "\n",
    "groceries = {'apples': 5, 'pasta': 3, 'carrots': 12, 'orange juice': 2, 'bananas': 8, 'popcorn': 1, 'salsa': 3, 'cereal': 4, 'coffee': 5, 'granola bars': 15, 'onions': 7, 'rice': 1, 'peanut butter': 2, 'spinach': 9}\n",
    "most_needed = []\n",
    "def g(k,d):\n",
    "    return d[k]\n",
    "ks = groceries.keys()\n",
    "most_needed = sorted(ks, key=lambda x:g(x,groceries), reverse = True)\n",
    "most_needed"
   ]
  },
  {
   "cell_type": "markdown",
   "metadata": {},
   "source": [
    "Create a function called last_four that takes in an ID number and returns the last four digits. For example, the number 17573005 should return 3005. Then, use this function to sort the list of ids stored in the variable, ids, from lowest to highest. Save this sorted list in the variable, sorted_ids. Hint: Remember that only strings can be indexed, so conversions may be needed."
   ]
  },
  {
   "cell_type": "code",
   "execution_count": 42,
   "metadata": {},
   "outputs": [
    {
     "name": "stdout",
     "output_type": "stream",
     "text": [
      "[2, 2342, 2345, 3005, 9000, 9329]\n"
     ]
    }
   ],
   "source": [
    "# 1st Method (working well)\n",
    "def last_four(x):\n",
    "    x = str(x)[-4:]\n",
    "    return int(x)\n",
    "\n",
    "\n",
    "ids = [17573005, 17572342, 17579000, 17570002, 17572345, 17579329]\n",
    "sorted_ids = []\n",
    "for i in ids:\n",
    "    sorted_ids.append(last_four(i))\n",
    "    \n",
    "sorted_ids.sort()\n",
    "\n",
    "print(sorted_ids)\n",
    "\n"
   ]
  },
  {
   "cell_type": "code",
   "execution_count": 93,
   "metadata": {},
   "outputs": [
    {
     "name": "stdout",
     "output_type": "stream",
     "text": [
      "[2, 2342, 2345, 3005, 9000, 9329]\n"
     ]
    }
   ],
   "source": [
    "#2nd Method   (solved)\n",
    "\n",
    "sorted_ids = []\n",
    "def last_fo(list):\n",
    "    for i in list:\n",
    "        sorted_ids.append(int(str(i)[-4:]))\n",
    "    sorted_ids.sort()\n",
    "    return sorted_ids\n",
    "    \n",
    "\n",
    "ids = [17573005, 17572342, 17579000, 17570002, 17572345, 17579329]\n",
    "\n",
    "print(last_fo(ids))"
   ]
  },
  {
   "cell_type": "code",
   "execution_count": 47,
   "metadata": {},
   "outputs": [
    {
     "name": "stdout",
     "output_type": "stream",
     "text": [
      "[17570002, 17572342, 17572345, 17573005, 17579000, 17579329]\n"
     ]
    }
   ],
   "source": [
    "\n",
    "ids = [17573005, 17572342, 17579000, 17570002, 17572345, 17579329]\n",
    "\n",
    "def last_four(x):\n",
    "    \n",
    "    return (str(x)[-4:])\n",
    "last_four(ids)\n",
    "\n",
    "sorted_ids = sorted(ids, key=last_four )\n",
    "print(sorted_ids)"
   ]
  },
  {
   "cell_type": "markdown",
   "metadata": {},
   "source": [
    "Sort the list ids by the last four digits of each id. Do this using lambda and not using a defined function. Save this sorted list in the variable sorted_id."
   ]
  },
  {
   "cell_type": "code",
   "execution_count": 48,
   "metadata": {},
   "outputs": [
    {
     "name": "stdout",
     "output_type": "stream",
     "text": [
      "[2, 2342, 2345, 3005, 9000, 9329]\n"
     ]
    }
   ],
   "source": [
    "#1st Method (working well)\n",
    "ids = [17573005, 17572342, 17579000, 17570002, 17572345, 17579329]\n",
    "\n",
    "p = lambda x: int(str(x)[-4:])\n",
    "\n",
    "\n",
    "sorted_id = []\n",
    "for i in ids:\n",
    "    sorted_id.append(p(i))\n",
    "    \n",
    "sorted_id.sort()\n",
    "\n",
    "print(sorted_id)"
   ]
  },
  {
   "cell_type": "code",
   "execution_count": 97,
   "metadata": {},
   "outputs": [
    {
     "ename": "SyntaxError",
     "evalue": "invalid syntax (<ipython-input-97-431f508d3ad1>, line 6)",
     "output_type": "error",
     "traceback": [
      "\u001b[1;36m  File \u001b[1;32m\"<ipython-input-97-431f508d3ad1>\"\u001b[1;36m, line \u001b[1;32m6\u001b[0m\n\u001b[1;33m    q = lambda list: print(sorted_id) for i in list: sorted_id.append(int(str(i)[-4:]))\u001b[0m\n\u001b[1;37m                                        ^\u001b[0m\n\u001b[1;31mSyntaxError\u001b[0m\u001b[1;31m:\u001b[0m invalid syntax\n"
     ]
    }
   ],
   "source": [
    "#2nd Method\n",
    "\n",
    "sorted_id = []\n",
    "ids = [17573005, 17572342, 17579000, 17570002, 17572345, 17579329]\n",
    "\n",
    "q = lambda list: print(sorted_id) for i in list: sorted_id.append(int(str(i)[-4:]))\n",
    "\n",
    "\n",
    "print(q(ids))"
   ]
  },
  {
   "cell_type": "code",
   "execution_count": 51,
   "metadata": {},
   "outputs": [
    {
     "name": "stdout",
     "output_type": "stream",
     "text": [
      "[17570002, 17572342, 17572345, 17573005, 17579000, 17579329]\n"
     ]
    }
   ],
   "source": [
    "ids = [17573005, 17572342, 17579000, 17570002, 17572345, 17579329]\n",
    "\n",
    "last_four = lambda x: str(x)[-4]\n",
    "\n",
    "sorted_id = sorted(ids, key=last_four )\n",
    "print(sorted_id)"
   ]
  },
  {
   "cell_type": "markdown",
   "metadata": {},
   "source": [
    "Sort the following list by each element’s second letter a to z. Do so by using lambda. Assign the resulting value to the variable lambda_sort."
   ]
  },
  {
   "cell_type": "code",
   "execution_count": null,
   "metadata": {},
   "outputs": [],
   "source": [
    "# 1st Method (working)\n",
    "ex_lst = ['hi', 'how are you', 'bye', 'apple', 'zebra', 'dance']\n",
    "\n",
    "ex_lst.sort(key=lambda x: x[1])\n"
   ]
  },
  {
   "cell_type": "code",
   "execution_count": 109,
   "metadata": {},
   "outputs": [
    {
     "name": "stdout",
     "output_type": "stream",
     "text": [
      "['ance', 'ebra', 'i', 'ow are you', 'pple', 'ye']\n"
     ]
    }
   ],
   "source": [
    "#2nd Method (issues)\n",
    "\n",
    "ex_lst = ['hi', 'how are you', 'bye', 'apple', 'zebra', 'dance']\n",
    "\n",
    "def sec_on(x):\n",
    "    x = str(x)[1:]\n",
    "    return x\n",
    "\n",
    "sorted_ids = []\n",
    "for i in ex_lst:\n",
    "    sorted_ids.append(sec_on(i))\n",
    "    \n",
    "sorted_ids.sort()\n",
    "\n",
    "print(sorted_ids)"
   ]
  },
  {
   "cell_type": "code",
   "execution_count": 56,
   "metadata": {},
   "outputs": [
    {
     "name": "stdout",
     "output_type": "stream",
     "text": [
      "['dance', 'zebra', 'hi', 'how are you', 'apple', 'bye']\n"
     ]
    }
   ],
   "source": [
    "ex_lst = ['hi', 'how are you', 'bye', 'apple', 'zebra', 'dance']\n",
    "\n",
    "ex_lst.sort(key=lambda x: x[1])\n",
    "\n",
    "lambda_sort = ex_lst\n",
    "print(lambda_sort)\n",
    "\n",
    "\n",
    "\n"
   ]
  },
  {
   "cell_type": "code",
   "execution_count": 106,
   "metadata": {},
   "outputs": [
    {
     "data": {
      "text/plain": [
       "['card', 'bar', 'aaaa', 'abab', 'foo']"
      ]
     },
     "execution_count": 106,
     "metadata": {},
     "output_type": "execute_result"
    }
   ],
   "source": [
    "strings = ['foo', 'card', 'bar', 'aaaa', 'abab'] \n",
    "strings.sort(key=lambda x: x[1])\n",
    "strings"
   ]
  },
  {
   "cell_type": "code",
   "execution_count": null,
   "metadata": {},
   "outputs": [],
   "source": []
  }
 ],
 "metadata": {
  "kernelspec": {
   "display_name": "Python 3",
   "language": "python",
   "name": "python3"
  },
  "language_info": {
   "codemirror_mode": {
    "name": "ipython",
    "version": 3
   },
   "file_extension": ".py",
   "mimetype": "text/x-python",
   "name": "python",
   "nbconvert_exporter": "python",
   "pygments_lexer": "ipython3",
   "version": "3.7.4"
  }
 },
 "nbformat": 4,
 "nbformat_minor": 2
}

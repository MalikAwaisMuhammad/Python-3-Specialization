{
 "cells": [
  {
   "cell_type": "markdown",
   "metadata": {},
   "source": [
    "The dictionary Junior shows a schedule for a junior year semester. The key is the course name and the value is the number of credits. Find the total number of credits taken this semester and assign it to the variable credits. Do not hardcode this – use dictionary accumulation!"
   ]
  },
  {
   "cell_type": "code",
   "execution_count": 20,
   "metadata": {},
   "outputs": [
    {
     "data": {
      "text/plain": [
       "18"
      ]
     },
     "execution_count": 20,
     "metadata": {},
     "output_type": "execute_result"
    }
   ],
   "source": [
    "Junior = {'SI 206':4, 'SI 310':4, 'BL 300':3, 'TO 313':3, 'BCOM 350':1, 'MO 300':3}\n",
    "\n",
    "credits = sum([value for value in Junior.values()])\n",
    "\n",
    "credits"
   ]
  },
  {
   "cell_type": "markdown",
   "metadata": {},
   "source": [
    "Create a dictionary, freq, that displays each character in string str1 as the key and its frequency as the value."
   ]
  },
  {
   "cell_type": "code",
   "execution_count": 21,
   "metadata": {},
   "outputs": [
    {
     "data": {
      "text/plain": [
       "{'p': 9,\n",
       " 'e': 8,\n",
       " 't': 1,\n",
       " 'r': 3,\n",
       " ' ': 7,\n",
       " 'i': 3,\n",
       " 'c': 3,\n",
       " 'k': 3,\n",
       " 'd': 2,\n",
       " 'a': 1,\n",
       " 'o': 1,\n",
       " 'f': 1,\n",
       " 'l': 1,\n",
       " 's': 1}"
      ]
     },
     "execution_count": 21,
     "metadata": {},
     "output_type": "execute_result"
    }
   ],
   "source": [
    "str1 = \"peter piper picked a peck of pickled peppers\"\n",
    "freq = {}\n",
    "\n",
    "for i in str1:\n",
    "    if i not in freq:\n",
    "        freq[i] = 1\n",
    "    else:\n",
    "        freq[i] +=1\n",
    "\n",
    "freq        "
   ]
  },
  {
   "cell_type": "markdown",
   "metadata": {},
   "source": [
    "Provided is a string saved to the variable name s1. Create a dictionary named counts that contains each letter in s1 and the number of times it occurs."
   ]
  },
  {
   "cell_type": "code",
   "execution_count": 28,
   "metadata": {},
   "outputs": [
    {
     "data": {
      "text/plain": [
       "{'h': 1, 'e': 1, 'l': 2, 'o': 1}"
      ]
     },
     "execution_count": 28,
     "metadata": {},
     "output_type": "execute_result"
    }
   ],
   "source": [
    "s1 = \"hello\"\n",
    "\n",
    "counts = {}\n",
    "\n",
    "for i in s1:\n",
    "    if i not in counts:\n",
    "        counts[i] = 1\n",
    "    else:\n",
    "        counts[i] +=1\n",
    "counts"
   ]
  },
  {
   "cell_type": "markdown",
   "metadata": {},
   "source": [
    "Create a dictionary, freq_words, that contains each word in string str1 as the key and its frequency as the value."
   ]
  },
  {
   "cell_type": "code",
   "execution_count": 29,
   "metadata": {},
   "outputs": [
    {
     "data": {
      "text/plain": [
       "{'I': 2,\n",
       " 'wish': 2,\n",
       " 'with': 2,\n",
       " 'all': 1,\n",
       " 'my': 1,\n",
       " 'heart': 1,\n",
       " 'to': 1,\n",
       " 'fly': 1,\n",
       " 'dragons': 1,\n",
       " 'in': 1,\n",
       " 'a': 1,\n",
       " 'land': 1,\n",
       " 'apart': 1}"
      ]
     },
     "execution_count": 29,
     "metadata": {},
     "output_type": "execute_result"
    }
   ],
   "source": [
    "str1 = \"I wish I wish with all my heart to fly with dragons in a land apart\"\n",
    "splt = str1.split()\n",
    "freq_words ={}\n",
    "\n",
    "for i in splt:\n",
    "    if i not in freq_words:\n",
    "        freq_words[i] = 1\n",
    "    else:\n",
    "        freq_words[i] += 1\n",
    "\n",
    "freq_words"
   ]
  },
  {
   "cell_type": "markdown",
   "metadata": {},
   "source": [
    "Create a dictionary called wrd_d from the string sent, so that the key is a word and the value is how many times you have seen that word."
   ]
  },
  {
   "cell_type": "code",
   "execution_count": 30,
   "metadata": {},
   "outputs": [
    {
     "data": {
      "text/plain": [
       "{'Singing': 1,\n",
       " 'in': 2,\n",
       " 'the': 2,\n",
       " 'rain': 2,\n",
       " 'and': 1,\n",
       " 'playing': 1,\n",
       " 'are': 1,\n",
       " 'two': 1,\n",
       " 'entirely': 1,\n",
       " 'different': 1,\n",
       " 'situations': 1,\n",
       " 'but': 1,\n",
       " 'both': 1,\n",
       " 'can': 1,\n",
       " 'be': 1,\n",
       " 'good': 1}"
      ]
     },
     "execution_count": 30,
     "metadata": {},
     "output_type": "execute_result"
    }
   ],
   "source": [
    "sent = \"Singing in the rain and playing in the rain are two entirely different situations but both can be good\"\n",
    "splt = sent.split()\n",
    "wrd_d = {}\n",
    "\n",
    "for i in splt:\n",
    "    if i not in wrd_d:\n",
    "        wrd_d[i] = 1\n",
    "    else:\n",
    "        wrd_d[i] +=1\n",
    "wrd_d"
   ]
  },
  {
   "cell_type": "markdown",
   "metadata": {},
   "source": [
    "Create the dictionary characters that shows each character from the string sally and its frequency. Then, find the most frequent letter based on the dictionary. Assign this letter to the variable best_char."
   ]
  },
  {
   "cell_type": "code",
   "execution_count": 20,
   "metadata": {},
   "outputs": [
    {
     "name": "stdout",
     "output_type": "stream",
     "text": [
      "s\n"
     ]
    }
   ],
   "source": [
    "sally = \"sally sells sea shells by the sea shore\"\n",
    "\n",
    "characters = {}\n",
    "\n",
    "for i in sally:\n",
    "    if i not in characters:\n",
    "        characters[i] = 1\n",
    "    else:\n",
    "        characters[i] +=1\n",
    "        \n",
    "\n",
    "best_char = sorted(characters.items(), key=lambda x: x[1])[-1][0]\n",
    "print(best_char)\n"
   ]
  },
  {
   "cell_type": "markdown",
   "metadata": {},
   "source": [
    "Find the least frequent letter. Create the dictionary characters that shows each character from string sally and its frequency. Then, find the least frequent letter in the string and assign the letter to the variable worst_char."
   ]
  },
  {
   "cell_type": "code",
   "execution_count": 24,
   "metadata": {},
   "outputs": [
    {
     "name": "stdout",
     "output_type": "stream",
     "text": [
      "n\n"
     ]
    }
   ],
   "source": [
    "sally = \"sally sells sea shells by the sea shore and by the road\"\n",
    "\n",
    "characters = {}\n",
    "\n",
    "for i in sally:\n",
    "    if i not in characters:\n",
    "        characters[i] = 1\n",
    "    else:\n",
    "        characters[i] +=1\n",
    "        \n",
    "worst_char = sorted(characters.items(), key=lambda x: x[1])[0][0]\n",
    "print(worst_char)"
   ]
  },
  {
   "cell_type": "markdown",
   "metadata": {},
   "source": [
    "Create a dictionary named letter_counts that contains each letter and the number of times it occurs in string1. Challenge: Letters should not be counted separately as upper-case and lower-case. Intead, all of them should be counted as lower-case."
   ]
  },
  {
   "cell_type": "code",
   "execution_count": 52,
   "metadata": {},
   "outputs": [
    {
     "data": {
      "text/plain": [
       "{'t': 19,\n",
       " 'h': 11,\n",
       " 'e': 29,\n",
       " 'r': 12,\n",
       " ' ': 53,\n",
       " 'i': 14,\n",
       " 's': 15,\n",
       " 'a': 17,\n",
       " 'd': 7,\n",
       " 'n': 15,\n",
       " 'f': 9,\n",
       " 'o': 17,\n",
       " 'm': 4,\n",
       " ',': 4,\n",
       " 'w': 6,\n",
       " 'c': 3,\n",
       " 'k': 2,\n",
       " 'l': 11,\n",
       " 'u': 8,\n",
       " '.': 4,\n",
       " 'v': 3,\n",
       " 'y': 1,\n",
       " 'g': 1,\n",
       " 'b': 1}"
      ]
     },
     "execution_count": 52,
     "metadata": {},
     "output_type": "execute_result"
    }
   ],
   "source": [
    "string1 = \"There is a tide in the affairs of men, Which taken at the flood, leads on to fortune. Omitted, all the voyage of their life is bound in shallows and in miseries. On such a full sea are we now afloat. And we must take the current when it serves, or lose our ventures.\"\n",
    "l = string1.lower()\n",
    "letter_counts = {}\n",
    "\n",
    "for i in l:\n",
    "    if i not in letter_counts:\n",
    "        letter_counts[i] = 1\n",
    "    else:\n",
    "        letter_counts[i] += 1\n",
    "letter_counts"
   ]
  },
  {
   "cell_type": "markdown",
   "metadata": {},
   "source": [
    "Create a dictionary called low_d that keeps track of all the characters in the string p and notes how many times each character was seen. Make sure that there are no repeats of characters as keys, such that “T” and “t” are both seen as a “t” for example."
   ]
  },
  {
   "cell_type": "code",
   "execution_count": 53,
   "metadata": {},
   "outputs": [
    {
     "data": {
      "text/plain": [
       "{'s': 5,\n",
       " 'u': 7,\n",
       " 'm': 3,\n",
       " 'e': 12,\n",
       " 'r': 3,\n",
       " ' ': 20,\n",
       " 'i': 3,\n",
       " 'a': 6,\n",
       " 'g': 3,\n",
       " 't': 9,\n",
       " 'o': 8,\n",
       " 'd': 1,\n",
       " '.': 2,\n",
       " 'y': 1,\n",
       " 'h': 6,\n",
       " 'v': 1,\n",
       " 'b': 2,\n",
       " 'c': 2,\n",
       " 'f': 3,\n",
       " 'l': 1,\n",
       " 'n': 1}"
      ]
     },
     "execution_count": 53,
     "metadata": {},
     "output_type": "execute_result"
    }
   ],
   "source": [
    "p = \"Summer is a great time to go outside. You have to be careful of the sun though because of the heat.\"\n",
    "\n",
    "low_d = {}\n",
    "l = p.lower()\n",
    "\n",
    "for i in l:\n",
    "    if i not in low_d:\n",
    "        low_d[i] = 1\n",
    "    else:\n",
    "        low_d[i] += 1\n",
    "low_d\n"
   ]
  },
  {
   "cell_type": "code",
   "execution_count": 19,
   "metadata": {},
   "outputs": [
    {
     "name": "stdout",
     "output_type": "stream",
     "text": [
      "s\n"
     ]
    }
   ],
   "source": []
  },
  {
   "cell_type": "code",
   "execution_count": null,
   "metadata": {},
   "outputs": [],
   "source": []
  }
 ],
 "metadata": {
  "kernelspec": {
   "display_name": "Python 3",
   "language": "python",
   "name": "python3"
  },
  "language_info": {
   "codemirror_mode": {
    "name": "ipython",
    "version": 3
   },
   "file_extension": ".py",
   "mimetype": "text/x-python",
   "name": "python",
   "nbconvert_exporter": "python",
   "pygments_lexer": "ipython3",
   "version": "3.7.4"
  }
 },
 "nbformat": 4,
 "nbformat_minor": 2
}
